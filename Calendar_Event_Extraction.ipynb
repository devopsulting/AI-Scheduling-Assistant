{
 "cells": [
  {
   "cell_type": "markdown",
   "id": "ad70f19d",
   "metadata": {},
   "source": [
    "# Google Calendar Event Fetcher\n",
    "\n",
    "#### The Notebook demonstrates how to programmatically retrieve and process Google Calendar events for a given user and date range.\n",
    "\n",
    "##### Key Steps:\n",
    "\n",
    "Authentication: Load user credentials from a token file.\n",
    "\n",
    "API Call: Fetch events between specified start/end dates using the Google Calendar API.\n",
    "\n",
    "Data Processing: Extract event details (start/end times, attendees) and structure them into a clean format.\n",
    "\n",
    "Output: Return a list of events with attendee counts and time slots.\n",
    "```"
   ]
  },
  {
   "cell_type": "markdown",
   "id": "4411255e",
   "metadata": {},
   "source": [
    "### Importing Required Libraries"
   ]
  },
  {
   "cell_type": "code",
   "execution_count": 9,
   "id": "1c82ee6f",
   "metadata": {},
   "outputs": [],
   "source": [
    "import json\n",
    "from datetime import datetime, timezone, timedelta\n",
    "from google.oauth2.credentials import Credentials\n",
    "from googleapiclient.discovery import build"
   ]
  },
  {
   "cell_type": "markdown",
   "id": "e4e1d252",
   "metadata": {},
   "source": [
    "### Defining the retrive_calendar_events Function that includes : \n",
    "#### 1. Authenticating with Google Calendar\n",
    "#### 2. Fetching Events\n",
    "#### 3. Processing Events & Structuring"
   ]
  },
  {
   "cell_type": "code",
   "execution_count": 10,
   "id": "a531ab57-4dbb-4318-8575-719bdaeee32f",
   "metadata": {},
   "outputs": [],
   "source": [
    "from google.oauth2.credentials import Credentials\n",
    "from googleapiclient.discovery import build\n",
    "\n",
    "def retrieve_calendar_events(user, start, end):\n",
    "    events_list = []\n",
    "    token_path = \"./Keys/\" + user.split(\"@\")[0] + \".token\"\n",
    "    \n",
    "    creds = Credentials.from_authorized_user_file(token_path)\n",
    "    service = build(\"calendar\", \"v3\", credentials=creds)\n",
    "    items = service.events().list(\n",
    "        calendarId=\"primary\",\n",
    "        timeMin=start,\n",
    "        timeMax=end,\n",
    "        singleEvents=True,\n",
    "        orderBy=\"startTime\"\n",
    "    ).execute().get(\"items\", [])\n",
    "    \n",
    "    for ev in items:\n",
    "        atts = [a.get(\"email\", \"SELF\") for a in ev.get(\"attendees\", [])] or [\"SELF\"]\n",
    "        \n",
    "        if \"dateTime\" in ev[\"start\"]:\n",
    "            s = ev[\"start\"][\"dateTime\"]\n",
    "        elif \"date\" in ev[\"start\"]:\n",
    "            s = ev[\"start\"][\"date\"] + \"T00:00:00+05:30\"\n",
    "        else:\n",
    "            continue\n",
    "        \n",
    "        if \"dateTime\" in ev[\"end\"]:\n",
    "            e = ev[\"end\"][\"dateTime\"]\n",
    "        elif \"date\" in ev[\"end\"]:\n",
    "            e = ev[\"end\"][\"date\"] + \"T00:00:00+05:30\"\n",
    "        else:\n",
    "            continue\n",
    "        \n",
    "        events_list.append({\n",
    "            \"StartTime\":    s,\n",
    "            \"EndTime\":      e,\n",
    "            \"NumAttendees\": len(set(atts)),\n",
    "            \"Attendees\":    list(set(atts)),\n",
    "            \"Summary\":      ev.get(\"summary\", \"\")\n",
    "        })\n",
    "    \n",
    "    unique = {}\n",
    "    for ev in events_list:\n",
    "        key = (ev[\"StartTime\"], ev[\"EndTime\"], ev[\"Summary\"])\n",
    "        unique[key] = ev\n",
    "    deduped = list(unique.values())\n",
    "    \n",
    "    def collapse(events):\n",
    "        events = sorted(events, key=lambda x: x[\"StartTime\"])\n",
    "        merged = []\n",
    "        for ev in events:\n",
    "            if (merged and\n",
    "                merged[-1][\"Summary\"] == ev[\"Summary\"] and\n",
    "                merged[-1][\"EndTime\"] == ev[\"StartTime\"]):\n",
    "                merged[-1][\"EndTime\"] = ev[\"EndTime\"]\n",
    "            else:\n",
    "                merged.append(ev.copy())\n",
    "        return merged\n",
    "    \n",
    "    return collapse(deduped)"
   ]
  },
  {
   "cell_type": "code",
   "execution_count": 11,
   "id": "a71a3470",
   "metadata": {},
   "outputs": [],
   "source": [
    "def retrive_calendar_events(user, start, end):\n",
    "    events_list = []\n",
    "    token_path = \"./Keys/\"+user.split(\"@\")[0]+\".token\"\n",
    "    user_creds = Credentials.from_authorized_user_file(token_path)\n",
    "    calendar_service = build(\"calendar\", \"v3\", credentials=user_creds)\n",
    "    events_result = calendar_service.events().list(calendarId='primary', timeMin=start,timeMax=end,singleEvents=True,orderBy='startTime').execute()\n",
    "    events = events_result.get('items')\n",
    "    \n",
    "    for event in events : \n",
    "        attendee_list = []\n",
    "        try:\n",
    "            for attendee in event[\"attendees\"]: \n",
    "                attendee_list.append(attendee['email'])\n",
    "        except: \n",
    "            attendee_list.append(\"SELF\")\n",
    "        start_time = event[\"start\"][\"dateTime\"]\n",
    "        end_time = event[\"end\"][\"dateTime\"]\n",
    "        events_list.append(\n",
    "            {\"StartTime\" : start_time, \n",
    "             \"EndTime\": end_time, \n",
    "             \"NumAttendees\" :len(set(attendee_list)), \n",
    "             \"Attendees\" : list(set(attendee_list)),\n",
    "             \"Summary\" : event[\"summary\"]})\n",
    "    return events_list"
   ]
  },
  {
   "cell_type": "code",
   "execution_count": 12,
   "id": "44f82aba-efe4-4558-b9f9-63eb8189d7fe",
   "metadata": {},
   "outputs": [],
   "source": [
    "def retrive_calendar_events(user, start, end):\n",
    "    events_list = []\n",
    "    token_path = \"./Keys/\" + user.split(\"@\")[0] + \".token\"\n",
    "\n",
    "    try:\n",
    "        creds = Credentials.from_authorized_user_file(token_path)\n",
    "        service = build(\"calendar\", \"v3\", credentials=creds)\n",
    "\n",
    "        items = service.events().list(\n",
    "            calendarId='primary',\n",
    "            timeMin=start,\n",
    "            timeMax=end,\n",
    "            singleEvents=True,\n",
    "            orderBy='startTime'\n",
    "        ).execute().get('items', [])\n",
    "\n",
    "        for ev in items:\n",
    "            # Build attendee list\n",
    "            attendees = [a.get('email', 'SELF') for a in ev.get('attendees', [])] or ['SELF']\n",
    "\n",
    "            # Safely extract start_time\n",
    "            if 'dateTime' in ev['start']:\n",
    "                start_time = ev['start']['dateTime']\n",
    "            elif 'date' in ev['start']:\n",
    "                start_time = ev['start']['date'] + \"T00:00:00+05:30\"\n",
    "            else:\n",
    "                start_time = None\n",
    "\n",
    "            # Safely extract end_time\n",
    "            if 'dateTime' in ev['end']:\n",
    "                end_time = ev['end']['dateTime']\n",
    "            elif 'date' in ev['end']:\n",
    "                end_time = ev['end']['date'] + \"T00:00:00+05:30\"\n",
    "            else:\n",
    "                end_time = None\n",
    "\n",
    "            # Only append if we have at least one timestamp\n",
    "            if start_time and end_time:\n",
    "                events_list.append({\n",
    "                    \"StartTime\": start_time,\n",
    "                    \"EndTime\": end_time,\n",
    "                    \"NumAttendees\": len(set(attendees)),\n",
    "                    \"Attendees\": list(set(attendees)),\n",
    "                    \"Summary\": ev.get(\"summary\", \"\")\n",
    "                })\n",
    "    except Exception as e:\n",
    "        print(f\"Error retrieving calendar events for {user}: {e}\")\n",
    "\n",
    "    return events_list\n"
   ]
  },
  {
   "cell_type": "markdown",
   "id": "e2c46704",
   "metadata": {},
   "source": [
    "### Calling ```retrive_calendar_events``` with Auth Token, Start Date & End Date \n",
    "#### Date Format : YYYY-MM-DD (T) HH:MM:SS +TIMEZONE (+5:30 Indicates IST Time Zone Asia/Kolkata ) "
   ]
  },
  {
   "cell_type": "code",
   "execution_count": 13,
   "id": "8a76b494",
   "metadata": {},
   "outputs": [],
   "source": [
    "events = retrieve_calendar_events(\n",
    "    \"userone.amd@gmail.com\",\n",
    "    '2025-07-17T00:00:00+05:30',\n",
    "    '2025-07-17T23:59:59+05:30'\n",
    ")\n",
    "\n"
   ]
  },
  {
   "cell_type": "code",
   "execution_count": 14,
   "id": "246efdb3-62fc-4e77-acad-5dbc2fade427",
   "metadata": {},
   "outputs": [
    {
     "name": "stdout",
     "output_type": "stream",
     "text": [
      "True\n"
     ]
    }
   ],
   "source": [
    "import os\n",
    "print(os.path.exists(\"./Keys/userone.amd.token\"))  # Should return True\n"
   ]
  },
  {
   "cell_type": "code",
   "execution_count": 15,
   "id": "3ef7d975-be27-4a37-a409-c0b9ed1b2a5a",
   "metadata": {},
   "outputs": [
    {
     "name": "stdout",
     "output_type": "stream",
     "text": [
      "/home/user\n"
     ]
    }
   ],
   "source": [
    "import os\n",
    "print(os.getcwd())\n"
   ]
  },
  {
   "cell_type": "markdown",
   "id": "3d59631a",
   "metadata": {},
   "source": [
    "### Output that describing sample event : "
   ]
  },
  {
   "cell_type": "code",
   "execution_count": 16,
   "id": "c0adca3c",
   "metadata": {},
   "outputs": [
    {
     "data": {
      "text/plain": [
       "[{'StartTime': '2025-07-16T18:00:00+05:30',\n",
       "  'EndTime': '2025-07-17T09:00:00+05:30',\n",
       "  'NumAttendees': 1,\n",
       "  'Attendees': ['SELF'],\n",
       "  'Summary': 'Off Hours'},\n",
       " {'StartTime': '2025-07-17T09:00:00+05:30',\n",
       "  'EndTime': '2025-07-17T09:30:00+05:30',\n",
       "  'NumAttendees': 3,\n",
       "  'Attendees': ['usertwo.amd@gmail.com',\n",
       "   'userone.amd@gmail.com',\n",
       "   'userthree.amd@gmail.com'],\n",
       "  'Summary': 'Agentic AI Project Status Update'},\n",
       " {'StartTime': '2025-07-17T18:00:00+05:30',\n",
       "  'EndTime': '2025-07-18T09:00:00+05:30',\n",
       "  'NumAttendees': 1,\n",
       "  'Attendees': ['SELF'],\n",
       "  'Summary': 'Off Hours'}]"
      ]
     },
     "execution_count": 16,
     "metadata": {},
     "output_type": "execute_result"
    }
   ],
   "source": [
    "events"
   ]
  },
  {
   "cell_type": "code",
   "execution_count": null,
   "id": "65cce1c0",
   "metadata": {},
   "outputs": [],
   "source": []
  }
 ],
 "metadata": {
  "kernelspec": {
   "display_name": "Python 3 (ipykernel)",
   "language": "python",
   "name": "python3"
  },
  "language_info": {
   "codemirror_mode": {
    "name": "ipython",
    "version": 3
   },
   "file_extension": ".py",
   "mimetype": "text/x-python",
   "name": "python",
   "nbconvert_exporter": "python",
   "pygments_lexer": "ipython3",
   "version": "3.12.10"
  }
 },
 "nbformat": 4,
 "nbformat_minor": 5
}
