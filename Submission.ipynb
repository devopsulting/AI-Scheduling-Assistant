{
 "cells": [
  {
   "cell_type": "code",
   "execution_count": 1,
   "id": "6e245323-9f9f-4720-bab7-c99383592d32",
   "metadata": {},
   "outputs": [],
   "source": [
    "from flask import Flask, request, jsonify\n",
    "from threading import Thread\n",
    "\n",
    "import json"
   ]
  },
  {
   "cell_type": "code",
   "execution_count": 2,
   "id": "4fcddc96-2e74-4834-90aa-c33ce324c307",
   "metadata": {},
   "outputs": [],
   "source": [
    "!pkill -f flask\n"
   ]
  },
  {
   "cell_type": "code",
   "execution_count": 3,
   "id": "7998af40-fb7a-48b5-87db-be1c0dd54902",
   "metadata": {},
   "outputs": [],
   "source": [
    "from flask import Flask, request, jsonify\n",
    "from threading import Thread\n",
    "import json\n",
    "import os\n",
    "from datetime import datetime, timedelta\n",
    "from dateutil import parser as dt_parser\n",
    "from google.oauth2.credentials import Credentials\n",
    "from googleapiclient.discovery import build\n",
    "import requests"
   ]
  },
  {
   "cell_type": "code",
   "execution_count": 4,
   "id": "9a6bf88c-6b2b-46b8-87e9-47b496692557",
   "metadata": {},
   "outputs": [],
   "source": [
    "app = Flask(__name__)\n",
    "received_data = []"
   ]
  },
  {
   "cell_type": "code",
   "execution_count": 5,
   "id": "7dc878e8-47a2-4bb7-8b5e-7f4a23332e33",
   "metadata": {},
   "outputs": [],
   "source": [
    "def retrieve_calendar_events(user, start, end):\n",
    "    token_path = os.path.join(\"../Keys\", f\"{user.split('@')[0]}.token\")\n",
    "    creds = Credentials.from_authorized_user_file(token_path)\n",
    "    service = build(\"calendar\", \"v3\", credentials=creds)\n",
    "    events = service.events().list(\n",
    "        calendarId=user,\n",
    "        timeMin=start,\n",
    "        timeMax=end,\n",
    "        singleEvents=True,\n",
    "        orderBy='startTime'\n",
    "    ).execute().get('items', [])\n",
    "    result = []\n",
    "    for ev in events:\n",
    "        s = ev['start'].get('dateTime') or ev['start'].get('date') + \"T00:00:00Z\"\n",
    "        e = ev['end'].get('dateTime') or ev['end'].get('date') + \"T00:00:00Z\"\n",
    "        atts = [a.get('email') for a in ev.get('attendees', [])] or [user]\n",
    "        result.append({\n",
    "            \"StartTime\": s,\n",
    "            \"EndTime\": e,\n",
    "            \"NumAttendees\": len(atts),\n",
    "            \"Attendees\": atts,\n",
    "            \"Summary\": ev.get('summary', '')\n",
    "        })\n",
    "    return result"
   ]
  },
  {
   "cell_type": "code",
   "execution_count": 6,
   "id": "fd63ea88-6b07-4300-94c7-b694e829da40",
   "metadata": {},
   "outputs": [],
   "source": [
    "def parse_email(email_text):\n",
    "    payload = {\n",
    "        \"model\": \"meta-llama\",\n",
    "        \"messages\": [\n",
    "            {\"role\": \"user\", \"content\": f\"\"\"\n",
    "You are an autonomous meeting scheduler. Extract and return JSON:\n",
    "- participants: list of emails\n",
    "- meeting_duration: integer minutes\n",
    "- earliest: ISO datetime start window\n",
    "- latest: ISO datetime end window\n",
    "If names only, append @amd.com. No extra text.\n",
    "Email: {email_text}\n",
    "\"\"\"}\n",
    "        ]\n",
    "    }\n",
    "    res = requests.post(LLM_URL, json=payload)\n",
    "    return json.loads(res.json()['choices'][0]['message']['content'])"
   ]
  },
  {
   "cell_type": "code",
   "execution_count": 7,
   "id": "2c0980c3-8911-4d1e-833b-9ea4dcccab9f",
   "metadata": {},
   "outputs": [],
   "source": [
    "def find_meeting_slot(busy, duration, earliest, latest):\n",
    "    start_window = dt_parser.isoparse(earliest)\n",
    "    end_window = dt_parser.isoparse(latest)\n",
    "    delta = timedelta(minutes=duration)\n",
    "    step = timedelta(minutes=TIME_STEP_MINUTES)\n"
   ]
  },
  {
   "cell_type": "code",
   "execution_count": 8,
   "id": "c821b813-1810-4477-a7f1-7f718b49e4d4",
   "metadata": {},
   "outputs": [],
   "source": [
    "def find_meeting_slot(busy, duration, earliest, latest):\n",
    "    start_window = dt_parser.isoparse(earliest)\n",
    "    end_window = dt_parser.isoparse(latest)\n",
    "    delta = timedelta(minutes=duration)\n",
    "    step = timedelta(minutes=TIME_STEP_MINUTES)\n",
    "\n",
    "    # search across multiple days if needed\n",
    "    for day_offset in range(MAX_SEARCH_DAYS):\n",
    "        day_start = start_window + timedelta(days=day_offset)\n",
    "        window_start = day_start\n",
    "        window_end = end_window + timedelta(days=day_offset)\n",
    "        t = window_start\n",
    "        while t + delta <= window_end:\n",
    "            conflict = False\n",
    "            for slots in busy.values():\n",
    "                for slot in slots:\n",
    "                    s = dt_parser.isoparse(slot['StartTime'])\n",
    "                    e = dt_parser.isoparse(slot['EndTime'])\n",
    "                    if not (t + delta <= s or t >= e):\n",
    "                        conflict = True\n",
    "                        break\n",
    "                if conflict:\n",
    "                    break\n",
    "            if not conflict:\n",
    "                return t.isoformat(), (t + delta).isoformat()\n",
    "            t += step\n",
    "    return None, None"
   ]
  },
  {
   "cell_type": "code",
   "execution_count": 9,
   "id": "f5df8c44-4b5d-4757-9dc5-a5ac2a516c3a",
   "metadata": {},
   "outputs": [],
   "source": [
    "from calendar_utils import retrieve_calendar_events\n"
   ]
  },
  {
   "cell_type": "code",
   "execution_count": null,
   "id": "1cd85242-7178-4fab-a609-77a44232dfb1",
   "metadata": {},
   "outputs": [],
   "source": []
  },
  {
   "cell_type": "code",
   "execution_count": 10,
   "id": "258cbc0b-107a-4639-ab5f-a21731e194c3",
   "metadata": {},
   "outputs": [],
   "source": [
    "def your_meeting_assistant(data):\n",
    "    content = data['EmailContent']\n",
    "    subject = data.get('Subject', 'Meeting')\n",
    "    sender = data['From']\n",
    "    base_time = data['Datetime']\n",
    "\n",
    "    # 1) Parse email for scheduling info\n",
    "    parsed = parse_email(content)\n",
    "    participants = parsed['participants']\n",
    "    duration = parsed['meeting_duration']\n",
    "    earliest = parsed['earliest']\n",
    "    latest = parsed['latest']\n",
    "\n",
    "    # ensure sender included\n",
    "    all_users = list({sender} | set(participants))\n",
    "\n",
    "    # 2) Fetch each user's busy events\n",
    "    busy_events = {}\n",
    "    for user in all_users:\n",
    "        busy_events[user] = retrieve_calendar_events(\n",
    "            user, earliest, latest)\n",
    "\n",
    "    # 3) Find a conflict-free slot\n",
    "    start, end = find_meeting_slot(busy_events, duration, earliest, latest)\n",
    "\n",
    "    # 4) Build attendee schedule output\n",
    "    attendee_objs = []\n",
    "    for user in all_users:\n",
    "        evs = busy_events[user]\n",
    "        if start and end:\n",
    "            evs.append({\n",
    "                'StartTime': start,\n",
    "                'EndTime': end,\n",
    "                'NumAttendees': len(all_users),\n",
    "                'Attendees': all_users,\n",
    "                'Summary': subject\n",
    "            })\n",
    "        attendee_objs.append({'email': user, 'events': evs})\n",
    "\n",
    "    # 5) Construct final response\n",
    "    data['Attendees'] = attendee_objs\n",
    "    data['EventStart'] = start or ''\n",
    "    data['EventEnd'] = end or ''\n",
    "    data['Duration_mins'] = str(duration) if start else ''\n",
    "    data['processed'] = parsed\n",
    "    if start:\n",
    "        data['output'] = {'status': 'scheduled', 'Link': None}\n",
    "    else:\n",
    "        fallback = (dt_parser.isoparse(earliest) + timedelta(days=1)).isoformat()\n",
    "        data['output'] = {'status': 'conflict', 'suggested': fallback}\n",
    "\n",
    "    return data"
   ]
  },
  {
   "cell_type": "code",
   "execution_count": 16,
   "id": "646897e9-0e87-46df-896d-af6ea71dc37e",
   "metadata": {},
   "outputs": [],
   "source": [
    "if not app.view_functions.get('receive'):\n",
    "    @app.route('/receive', methods=['POST'])\n",
    "    def receive():\n",
    "        data = request.get_json(force=True)\n",
    "        result = your_meeting_assistant(data)\n",
    "        received_data.append(result)\n",
    "        return jsonify(result)\n"
   ]
  },
  {
   "cell_type": "code",
   "execution_count": 17,
   "id": "f8a4f048-22da-443c-a2f0-219a723a8dad",
   "metadata": {},
   "outputs": [
    {
     "name": "stdout",
     "output_type": "stream",
     "text": [
      " * Serving Flask app '__main__'\n",
      " * Debug mode: off\n"
     ]
    },
    {
     "name": "stderr",
     "output_type": "stream",
     "text": [
      "INFO:werkzeug:\u001b[31m\u001b[1mWARNING: This is a development server. Do not use it in a production deployment. Use a production WSGI server instead.\u001b[0m\n",
      " * Running on all addresses (0.0.0.0)\n",
      " * Running on http://127.0.0.1:5050\n",
      " * Running on http://134.199.205.253:5050\n",
      "INFO:werkzeug:\u001b[33mPress CTRL+C to quit\u001b[0m\n"
     ]
    }
   ],
   "source": [
    "def run_flask():\n",
    "    app.run(host='0.0.0.0', port=5050, debug=False)\n",
    "\n",
    "Thread(target=run_flask, daemon=True).start()\n"
   ]
  },
  {
   "cell_type": "code",
   "execution_count": 18,
   "id": "9a603634",
   "metadata": {},
   "outputs": [
    {
     "name": "stdout",
     "output_type": "stream",
     "text": [
      " * Serving Flask app '__main__'\n",
      " * Debug mode: off\n"
     ]
    },
    {
     "name": "stderr",
     "output_type": "stream",
     "text": [
      "Address already in use\n",
      "Port 5050 is in use by another program. Either identify and stop that program, or start the server with a different port.\n"
     ]
    }
   ],
   "source": [
    "# Start Flask in a background thread\n",
    "Thread(target=run_flask, daemon=True).start()"
   ]
  },
  {
   "cell_type": "code",
   "execution_count": null,
   "id": "99503fa4-09c2-4b27-b7db-5b0d6acd2829",
   "metadata": {},
   "outputs": [],
   "source": []
  }
 ],
 "metadata": {
  "kernelspec": {
   "display_name": "Python 3 (ipykernel)",
   "language": "python",
   "name": "python3"
  },
  "language_info": {
   "codemirror_mode": {
    "name": "ipython",
    "version": 3
   },
   "file_extension": ".py",
   "mimetype": "text/x-python",
   "name": "python",
   "nbconvert_exporter": "python",
   "pygments_lexer": "ipython3",
   "version": "3.12.10"
  }
 },
 "nbformat": 4,
 "nbformat_minor": 5
}
